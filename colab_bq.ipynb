{
  "nbformat": 4,
  "nbformat_minor": 0,
  "metadata": {
    "colab": {
      "provenance": [],
      "authorship_tag": "ABX9TyNoeXkSlsUug2ljVrVcf/kQ",
      "include_colab_link": true
    },
    "kernelspec": {
      "name": "python3",
      "display_name": "Python 3"
    },
    "language_info": {
      "name": "python"
    }
  },
  "cells": [
    {
      "cell_type": "markdown",
      "metadata": {
        "id": "view-in-github",
        "colab_type": "text"
      },
      "source": [
        "<a href=\"https://colab.research.google.com/github/Sennendog/colab/blob/main/colab_bq.ipynb\" target=\"_parent\"><img src=\"https://colab.research.google.com/assets/colab-badge.svg\" alt=\"Open In Colab\"/></a>"
      ]
    },
    {
      "cell_type": "code",
      "execution_count": null,
      "metadata": {
        "id": "S5uuBXw3RTWw"
      },
      "outputs": [],
      "source": [
        "from google.colab import auth\n",
        "auth.authenticate_user()\n",
        "print('Authenticated')\n"
      ]
    },
    {
      "cell_type": "code",
      "source": [
        "# list bigquery projects\n",
        "!gcloud projects list"
      ],
      "metadata": {
        "id": "1qoiLW8uSQ_B"
      },
      "execution_count": null,
      "outputs": []
    },
    {
      "cell_type": "code",
      "source": [
        "!gcloud config set project henne-gcp\n"
      ],
      "metadata": {
        "id": "c87yQqS6SdeB"
      },
      "execution_count": null,
      "outputs": []
    },
    {
      "cell_type": "code",
      "source": [
        "!bq ls"
      ],
      "metadata": {
        "id": "G_an1Ov_S16j"
      },
      "execution_count": null,
      "outputs": []
    },
    {
      "cell_type": "code",
      "source": [
        "# list all tables in dataset hfm4_lz\n",
        "!bq ls hfm4_lz"
      ],
      "metadata": {
        "id": "hK1HQJd7S-vX"
      },
      "execution_count": null,
      "outputs": []
    }
  ]
}